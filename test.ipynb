{
 "cells": [
  {
   "cell_type": "markdown",
   "metadata": {},
   "source": [
    "# Testing scripts, retrieving weather data"
   ]
  },
  {
   "cell_type": "code",
   "execution_count": 1,
   "metadata": {},
   "outputs": [],
   "source": [
    "import os\n",
    "from dotenv import load_dotenv\n",
    "\n",
    "# Load environment variables from .env file\n",
    "load_dotenv()\n",
    "\n",
    "# Access the API key\n",
    "api_key = os.getenv(\"API_KEY\")"
   ]
  },
  {
   "cell_type": "code",
   "execution_count": 2,
   "metadata": {},
   "outputs": [],
   "source": [
    "import requests\n",
    "from datetime import date, datetime, timedelta\n",
    "import time"
   ]
  },
  {
   "cell_type": "code",
   "execution_count": 3,
   "metadata": {},
   "outputs": [
    {
     "name": "stdout",
     "output_type": "stream",
     "text": [
      "-7.2459717\n",
      "112.7378266\n"
     ]
    }
   ],
   "source": [
    "# Testing geocoding to get the latlong data of a city\n",
    "def get_city_coordinates(city, api_key):\n",
    "    url = f\"http://api.openweathermap.org/geo/1.0/direct?q={city}&limit=1&appid={api_key}\"\n",
    "    response = requests.get(url)\n",
    "    if response.status_code == 200:\n",
    "        data = response.json()\n",
    "        if data:\n",
    "            lat = data[0]['lat']\n",
    "            lon = data[0]['lon']\n",
    "            return lat, lon\n",
    "        else:\n",
    "            print(f\"City '{city}' not found.\")\n",
    "            return None, None\n",
    "    else:\n",
    "        print(\"Error fetching coordinates:\", response.status_code)\n",
    "        return None, None\n",
    "\n",
    "city = \"Surabaya\"\n",
    "# city = \"Jakarta\"\n",
    "lat, lon = get_city_coordinates(city, api_key)\n",
    "print(lat)\n",
    "print(lon)"
   ]
  },
  {
   "cell_type": "code",
   "execution_count": 4,
   "metadata": {},
   "outputs": [
    {
     "name": "stdout",
     "output_type": "stream",
     "text": [
      "Temperature: 29.25°C\n",
      "Condition: overcast clouds\n",
      "Humidity: 70%\n",
      "Wind Speed: 5.41 m/s\n"
     ]
    }
   ],
   "source": [
    "# Function to fetch weather data\n",
    "def get_weather(lat, lon, part, api_key):\n",
    "    url = f\"https://api.openweathermap.org/data/3.0/onecall?lat={lat}&lon={lon}&exclude={part}&appid={api_key}&units=metric\"\n",
    "    response = requests.get(url)\n",
    "    if response.status_code == 200:\n",
    "        data = response.json()\n",
    "        return data\n",
    "    else:\n",
    "        print(\"Error:\", response.status_code)\n",
    "        return None\n",
    "\n",
    "# Function to display weather data\n",
    "def display_weather(data):\n",
    "    if data:\n",
    "        temp = data[\"current\"][\"temp\"]\n",
    "        weather = data[\"current\"][\"weather\"][0][\"description\"]\n",
    "        humidity = data[\"current\"][\"humidity\"]\n",
    "        wind_speed = data[\"current\"][\"wind_speed\"]\n",
    "\n",
    "        # print(f\"Weather in {city}:\")\n",
    "        print(f\"Temperature: {temp}°C\")\n",
    "        print(f\"Condition: {weather}\")\n",
    "        print(f\"Humidity: {humidity}%\")\n",
    "        print(f\"Wind Speed: {wind_speed} m/s\")\n",
    "    else:\n",
    "        print(\"No data to display.\")\n",
    "\n",
    "# Main program\n",
    "if __name__ == \"__main__\":\n",
    "    city_name = input(\"Enter the city name: \")\n",
    "    part = 'minutely,hourly'\n",
    "    weather_data = get_weather(lat, lon, part, api_key)\n",
    "    display_weather(weather_data)"
   ]
  },
  {
   "cell_type": "code",
   "execution_count": 19,
   "metadata": {},
   "outputs": [],
   "source": [
    "def get_historical_weather(lat, lon, api_key, days=30):\n",
    "    \"\"\"Fetch historical weather data for the last 'days' days.\"\"\"\n",
    "    base_url = base_url = f\"https://api.openweathermap.org/data/3.0/onecall/timemachine\"\n",
    "    weather_data = []\n",
    "\n",
    "    for i in range(days):\n",
    "        # Calculate the timestamp for each day\n",
    "        ts_d_min_i = datetime.utcnow() - timedelta(days=i+1) # Timestamp of day minus (i+1)\n",
    "        timestamp = int(ts_d_min_i.timestamp())\n",
    "        params = {\n",
    "            \"lat\": lat,\n",
    "            \"lon\": lon,\n",
    "            \"dt\": timestamp,\n",
    "            \"appid\": api_key,\n",
    "            \"units\": \"metric\" # Optional: Metric units for temperature\n",
    "        }\n",
    "\n",
    "        # Make the API call\n",
    "        response = requests.get(base_url, params=params)\n",
    "        if response.status_code == 200:\n",
    "            day_data = response.json()\n",
    "            weather_data.append({\n",
    "                \"timestamp_utc\": timestamp,\n",
    "                \"timezone_offset\": day_data[\"timezone_offset\"], # offset to be added to timestamp_utc to convert it to GMT+7\n",
    "                \"date_utc\": datetime.utcfromtimestamp(timestamp).strftime('%Y-%m-%d'),\n",
    "                \"weather\": day_data[\"data\"][0][\"weather\"][0][\"main\"],\n",
    "                \"description\": day_data[\"data\"][0][\"weather\"][0][\"description\"],\n",
    "                \"temperature\": day_data[\"data\"][0][\"temp\"],\n",
    "                \"pressure\": day_data[\"data\"][0][\"pressure\"],\n",
    "                \"humidity\": day_data[\"data\"][0][\"humidity\"],\n",
    "                \"dew_point\": day_data[\"data\"][0][\"dew_point\"],\n",
    "                \"wind_speed\": day_data[\"data\"][0][\"wind_speed\"]\n",
    "            })\n",
    "        else:\n",
    "            print(f\"Error fetching weather data for day {i+1}: {response.status_code}\")\n",
    "            break\n",
    "\n",
    "        # Avoid hitting rate limits\n",
    "        time.sleep(1)\n",
    "\n",
    "    return weather_data"
   ]
  },
  {
   "cell_type": "code",
   "execution_count": 22,
   "metadata": {},
   "outputs": [],
   "source": [
    "import csv\n",
    "\n",
    "# Save the weather data to a CSV file\n",
    "def save_to_csv(data, city_name):\n",
    "    filename = \"{}_weather.csv\".format(city_name.lower())\n",
    "    with open(filename, mode=\"w\", newline=\"\") as file:\n",
    "        writer = csv.DictWriter(\n",
    "            file,\n",
    "            fieldnames=[\n",
    "                \"timestamp_utc\",\n",
    "                \"timezone_offset\",\n",
    "                \"date_utc\",\n",
    "                \"weather\",\n",
    "                \"description\",\n",
    "                \"temperature\",\n",
    "                \"pressure\",\n",
    "                \"humidity\",\n",
    "                \"dew_point\",\n",
    "                \"wind_speed\"\n",
    "                ])\n",
    "        writer.writeheader()\n",
    "        writer.writerows(data)\n",
    "    print(f\"Weather data saved to {filename}\")\n"
   ]
  },
  {
   "cell_type": "code",
   "execution_count": 23,
   "metadata": {},
   "outputs": [
    {
     "name": "stdout",
     "output_type": "stream",
     "text": [
      "Date: 2025-01-28, Time: 1738102821, Temp: 24.7°C, Weather: Clouds, overcast clouds\n",
      "Date: 2025-01-27, Time: 1738016422, Temp: 23.9°C, Weather: Haze, haze\n",
      "Date: 2025-01-26, Time: 1737930024, Temp: 24.63°C, Weather: Rain, light rain\n",
      "Date: 2025-01-25, Time: 1737843625, Temp: 25.36°C, Weather: Clouds, overcast clouds\n",
      "Date: 2025-01-24, Time: 1737757227, Temp: 23.91°C, Weather: Mist, mist\n",
      "Date: 2025-01-23, Time: 1737670828, Temp: 24.07°C, Weather: Mist, mist\n",
      "Date: 2025-01-22, Time: 1737584430, Temp: 24.35°C, Weather: Mist, mist\n",
      "Date: 2025-01-21, Time: 1737498031, Temp: 24.81°C, Weather: Clouds, few clouds\n",
      "Date: 2025-01-20, Time: 1737411633, Temp: 23.29°C, Weather: Rain, light rain\n",
      "Date: 2025-01-19, Time: 1737325234, Temp: 24.6°C, Weather: Rain, light rain\n",
      "Date: 2025-01-18, Time: 1737238836, Temp: 24.09°C, Weather: Haze, haze\n",
      "Date: 2025-01-17, Time: 1737152437, Temp: 24.1°C, Weather: Haze, haze\n",
      "Date: 2025-01-16, Time: 1737066039, Temp: 24.53°C, Weather: Haze, haze\n",
      "Date: 2025-01-15, Time: 1736979640, Temp: 24.58°C, Weather: Rain, light rain\n",
      "Date: 2025-01-14, Time: 1736893241, Temp: 25.57°C, Weather: Mist, mist\n",
      "Date: 2025-01-13, Time: 1736806843, Temp: 26.6°C, Weather: Haze, haze\n",
      "Date: 2025-01-12, Time: 1736720444, Temp: 25.88°C, Weather: Clouds, few clouds\n",
      "Date: 2025-01-11, Time: 1736634046, Temp: 25.68°C, Weather: Haze, haze\n",
      "Date: 2025-01-10, Time: 1736547647, Temp: 26.65°C, Weather: Haze, haze\n",
      "Date: 2025-01-09, Time: 1736461249, Temp: 26°C, Weather: Clouds, few clouds\n",
      "Date: 2025-01-08, Time: 1736374850, Temp: 26.11°C, Weather: Mist, mist\n",
      "Date: 2025-01-07, Time: 1736288452, Temp: 26.3°C, Weather: Haze, haze\n",
      "Date: 2025-01-06, Time: 1736202053, Temp: 25.56°C, Weather: Mist, mist\n",
      "Date: 2025-01-05, Time: 1736115654, Temp: 25.69°C, Weather: Haze, haze\n",
      "Date: 2025-01-04, Time: 1736029256, Temp: 25.79°C, Weather: Clouds, few clouds\n",
      "Date: 2025-01-03, Time: 1735942857, Temp: 26.17°C, Weather: Clouds, few clouds\n",
      "Date: 2025-01-02, Time: 1735856459, Temp: 25.44°C, Weather: Mist, mist\n",
      "Date: 2025-01-01, Time: 1735770060, Temp: 25.98°C, Weather: Mist, mist\n",
      "Date: 2024-12-31, Time: 1735683661, Temp: 26.5°C, Weather: Rain, light rain\n",
      "Date: 2024-12-30, Time: 1735597263, Temp: 25.64°C, Weather: Clouds, few clouds\n",
      "Weather data saved to surabaya_weather.csv\n"
     ]
    }
   ],
   "source": [
    "def main():\n",
    "    # Change to your desired city\n",
    "    city_name = \"Surabaya\"\n",
    "    # city_name = input(\"Enter the city name: \")\n",
    "    \n",
    "    # Number of past days to retrieve\n",
    "    days = 30\n",
    "\n",
    "    # Step 1: Get city coordinates\n",
    "    lat, lon = get_city_coordinates(city_name, api_key)\n",
    "    if lat is None or lon is None:\n",
    "        return\n",
    "\n",
    "    # Step 2: Fetch historical weather data\n",
    "    weather_data = get_historical_weather(lat, lon, api_key, days)\n",
    "\n",
    "    # Step 3: Display or process the data\n",
    "    for day in weather_data:\n",
    "        timestamp = day[\"timestamp_utc\"]\n",
    "        date = day[\"date_utc\"]\n",
    "        temp = day[\"temperature\"]\n",
    "        weather = day[\"weather\"]\n",
    "        weather_desc = day[\"description\"]\n",
    "        print(f\"Date: {date}, Time: {timestamp}, Temp: {temp}°C, Weather: {weather}, {weather_desc}\")\n",
    "\n",
    "    # Step 4: Store the weather data to a CSV file\n",
    "    save_to_csv(weather_data, city_name)\n",
    "\n",
    "if __name__ == \"__main__\":\n",
    "    main()"
   ]
  },
  {
   "cell_type": "markdown",
   "metadata": {},
   "source": [
    "# EDA"
   ]
  },
  {
   "cell_type": "code",
   "execution_count": 26,
   "metadata": {},
   "outputs": [],
   "source": [
    "# Load the CSV data\n",
    "filename = \"surabaya_weather.csv\"  # Replace with your actual CSV file\n",
    "weather_data = pd.read_csv(filename)\n",
    "\n",
    "# Convert date to a datetime object for better handling\n",
    "weather_data['date_utc'] = pd.to_datetime(weather_data['date_utc'])"
   ]
  },
  {
   "cell_type": "code",
   "execution_count": 27,
   "metadata": {},
   "outputs": [
    {
     "data": {
      "text/html": [
       "<div>\n",
       "<style scoped>\n",
       "    .dataframe tbody tr th:only-of-type {\n",
       "        vertical-align: middle;\n",
       "    }\n",
       "\n",
       "    .dataframe tbody tr th {\n",
       "        vertical-align: top;\n",
       "    }\n",
       "\n",
       "    .dataframe thead th {\n",
       "        text-align: right;\n",
       "    }\n",
       "</style>\n",
       "<table border=\"1\" class=\"dataframe\">\n",
       "  <thead>\n",
       "    <tr style=\"text-align: right;\">\n",
       "      <th></th>\n",
       "      <th>timestamp_utc</th>\n",
       "      <th>timezone_offset</th>\n",
       "      <th>date_utc</th>\n",
       "      <th>weather</th>\n",
       "      <th>description</th>\n",
       "      <th>temperature</th>\n",
       "      <th>pressure</th>\n",
       "      <th>humidity</th>\n",
       "      <th>dew_point</th>\n",
       "      <th>wind_speed</th>\n",
       "    </tr>\n",
       "  </thead>\n",
       "  <tbody>\n",
       "    <tr>\n",
       "      <th>0</th>\n",
       "      <td>1738102821</td>\n",
       "      <td>25200</td>\n",
       "      <td>2025-01-28</td>\n",
       "      <td>Clouds</td>\n",
       "      <td>overcast clouds</td>\n",
       "      <td>24.70</td>\n",
       "      <td>1009</td>\n",
       "      <td>90</td>\n",
       "      <td>22.95</td>\n",
       "      <td>2.48</td>\n",
       "    </tr>\n",
       "    <tr>\n",
       "      <th>1</th>\n",
       "      <td>1738016422</td>\n",
       "      <td>25200</td>\n",
       "      <td>2025-01-27</td>\n",
       "      <td>Haze</td>\n",
       "      <td>haze</td>\n",
       "      <td>23.90</td>\n",
       "      <td>1007</td>\n",
       "      <td>95</td>\n",
       "      <td>23.05</td>\n",
       "      <td>2.06</td>\n",
       "    </tr>\n",
       "    <tr>\n",
       "      <th>2</th>\n",
       "      <td>1737930024</td>\n",
       "      <td>25200</td>\n",
       "      <td>2025-01-26</td>\n",
       "      <td>Rain</td>\n",
       "      <td>light rain</td>\n",
       "      <td>24.63</td>\n",
       "      <td>1006</td>\n",
       "      <td>92</td>\n",
       "      <td>23.24</td>\n",
       "      <td>1.95</td>\n",
       "    </tr>\n",
       "    <tr>\n",
       "      <th>3</th>\n",
       "      <td>1737843625</td>\n",
       "      <td>25200</td>\n",
       "      <td>2025-01-25</td>\n",
       "      <td>Clouds</td>\n",
       "      <td>overcast clouds</td>\n",
       "      <td>25.36</td>\n",
       "      <td>1008</td>\n",
       "      <td>89</td>\n",
       "      <td>23.41</td>\n",
       "      <td>1.03</td>\n",
       "    </tr>\n",
       "    <tr>\n",
       "      <th>4</th>\n",
       "      <td>1737757227</td>\n",
       "      <td>25200</td>\n",
       "      <td>2025-01-24</td>\n",
       "      <td>Mist</td>\n",
       "      <td>mist</td>\n",
       "      <td>23.91</td>\n",
       "      <td>1008</td>\n",
       "      <td>95</td>\n",
       "      <td>23.06</td>\n",
       "      <td>0.51</td>\n",
       "    </tr>\n",
       "  </tbody>\n",
       "</table>\n",
       "</div>"
      ],
      "text/plain": [
       "   timestamp_utc  timezone_offset   date_utc weather      description  \\\n",
       "0     1738102821            25200 2025-01-28  Clouds  overcast clouds   \n",
       "1     1738016422            25200 2025-01-27    Haze             haze   \n",
       "2     1737930024            25200 2025-01-26    Rain       light rain   \n",
       "3     1737843625            25200 2025-01-25  Clouds  overcast clouds   \n",
       "4     1737757227            25200 2025-01-24    Mist             mist   \n",
       "\n",
       "   temperature  pressure  humidity  dew_point  wind_speed  \n",
       "0        24.70      1009        90      22.95        2.48  \n",
       "1        23.90      1007        95      23.05        2.06  \n",
       "2        24.63      1006        92      23.24        1.95  \n",
       "3        25.36      1008        89      23.41        1.03  \n",
       "4        23.91      1008        95      23.06        0.51  "
      ]
     },
     "execution_count": 27,
     "metadata": {},
     "output_type": "execute_result"
    }
   ],
   "source": [
    "weather_data.head()"
   ]
  },
  {
   "cell_type": "code",
   "execution_count": 28,
   "metadata": {},
   "outputs": [
    {
     "name": "stdout",
     "output_type": "stream",
     "text": [
      "<class 'pandas.core.frame.DataFrame'>\n",
      "RangeIndex: 30 entries, 0 to 29\n",
      "Data columns (total 10 columns):\n",
      " #   Column           Non-Null Count  Dtype         \n",
      "---  ------           --------------  -----         \n",
      " 0   timestamp_utc    30 non-null     int64         \n",
      " 1   timezone_offset  30 non-null     int64         \n",
      " 2   date_utc         30 non-null     datetime64[ns]\n",
      " 3   weather          30 non-null     object        \n",
      " 4   description      30 non-null     object        \n",
      " 5   temperature      30 non-null     float64       \n",
      " 6   pressure         30 non-null     int64         \n",
      " 7   humidity         30 non-null     int64         \n",
      " 8   dew_point        30 non-null     float64       \n",
      " 9   wind_speed       30 non-null     float64       \n",
      "dtypes: datetime64[ns](1), float64(3), int64(4), object(2)\n",
      "memory usage: 2.5+ KB\n"
     ]
    }
   ],
   "source": [
    "weather_data.info()"
   ]
  },
  {
   "cell_type": "code",
   "execution_count": 33,
   "metadata": {},
   "outputs": [
    {
     "data": {
      "text/plain": [
       "0   2025-01-29 05:20:21\n",
       "1   2025-01-28 05:20:22\n",
       "2   2025-01-27 05:20:24\n",
       "3   2025-01-26 05:20:25\n",
       "4   2025-01-25 05:20:27\n",
       "Name: timestamp_utc, dtype: datetime64[ns]"
      ]
     },
     "execution_count": 33,
     "metadata": {},
     "output_type": "execute_result"
    }
   ],
   "source": [
    "# Test\n",
    "weather_data[\"timestamp_utc\"].head()\n",
    "weather_data[\"timestamp_utc\"].head().apply(lambda x: datetime.fromtimestamp(x))\n"
   ]
  },
  {
   "cell_type": "code",
   "execution_count": 35,
   "metadata": {},
   "outputs": [
    {
     "data": {
      "text/plain": [
       "0   2025-01-29 12:20:21\n",
       "1   2025-01-28 12:20:22\n",
       "2   2025-01-27 12:20:24\n",
       "3   2025-01-26 12:20:25\n",
       "4   2025-01-25 12:20:27\n",
       "Name: timestamp_wib, dtype: datetime64[ns]"
      ]
     },
     "execution_count": 35,
     "metadata": {},
     "output_type": "execute_result"
    }
   ],
   "source": [
    "weather_data[\"timestamp_wib\"] = weather_data[\"timestamp_utc\"] + weather_data[\"timezone_offset\"]\n",
    "weather_data[\"timestamp_wib\"] = weather_data[\"timestamp_wib\"].apply(lambda x: datetime.fromtimestamp(x))\n",
    "weather_data[\"timestamp_wib\"].head()"
   ]
  },
  {
   "cell_type": "code",
   "execution_count": 44,
   "metadata": {},
   "outputs": [
    {
     "data": {
      "text/plain": [
       "0   2025-01-29\n",
       "1   2025-01-28\n",
       "2   2025-01-27\n",
       "3   2025-01-26\n",
       "4   2025-01-25\n",
       "Name: date_wib, dtype: datetime64[ns]"
      ]
     },
     "execution_count": 44,
     "metadata": {},
     "output_type": "execute_result"
    }
   ],
   "source": [
    "weather_data[\"date_wib\"] = weather_data[\"timestamp_wib\"].dt.normalize()\n",
    "weather_data[\"date_wib\"].head()"
   ]
  },
  {
   "cell_type": "code",
   "execution_count": 45,
   "metadata": {},
   "outputs": [
    {
     "data": {
      "text/html": [
       "<div>\n",
       "<style scoped>\n",
       "    .dataframe tbody tr th:only-of-type {\n",
       "        vertical-align: middle;\n",
       "    }\n",
       "\n",
       "    .dataframe tbody tr th {\n",
       "        vertical-align: top;\n",
       "    }\n",
       "\n",
       "    .dataframe thead th {\n",
       "        text-align: right;\n",
       "    }\n",
       "</style>\n",
       "<table border=\"1\" class=\"dataframe\">\n",
       "  <thead>\n",
       "    <tr style=\"text-align: right;\">\n",
       "      <th></th>\n",
       "      <th>timestamp_utc</th>\n",
       "      <th>timezone_offset</th>\n",
       "      <th>date_utc</th>\n",
       "      <th>weather</th>\n",
       "      <th>description</th>\n",
       "      <th>temperature</th>\n",
       "      <th>pressure</th>\n",
       "      <th>humidity</th>\n",
       "      <th>dew_point</th>\n",
       "      <th>wind_speed</th>\n",
       "      <th>timestamp_wib</th>\n",
       "      <th>date_wib</th>\n",
       "    </tr>\n",
       "  </thead>\n",
       "  <tbody>\n",
       "    <tr>\n",
       "      <th>0</th>\n",
       "      <td>1738102821</td>\n",
       "      <td>25200</td>\n",
       "      <td>2025-01-28</td>\n",
       "      <td>Clouds</td>\n",
       "      <td>overcast clouds</td>\n",
       "      <td>24.70</td>\n",
       "      <td>1009</td>\n",
       "      <td>90</td>\n",
       "      <td>22.95</td>\n",
       "      <td>2.48</td>\n",
       "      <td>2025-01-29 12:20:21</td>\n",
       "      <td>2025-01-29</td>\n",
       "    </tr>\n",
       "    <tr>\n",
       "      <th>1</th>\n",
       "      <td>1738016422</td>\n",
       "      <td>25200</td>\n",
       "      <td>2025-01-27</td>\n",
       "      <td>Haze</td>\n",
       "      <td>haze</td>\n",
       "      <td>23.90</td>\n",
       "      <td>1007</td>\n",
       "      <td>95</td>\n",
       "      <td>23.05</td>\n",
       "      <td>2.06</td>\n",
       "      <td>2025-01-28 12:20:22</td>\n",
       "      <td>2025-01-28</td>\n",
       "    </tr>\n",
       "    <tr>\n",
       "      <th>2</th>\n",
       "      <td>1737930024</td>\n",
       "      <td>25200</td>\n",
       "      <td>2025-01-26</td>\n",
       "      <td>Rain</td>\n",
       "      <td>light rain</td>\n",
       "      <td>24.63</td>\n",
       "      <td>1006</td>\n",
       "      <td>92</td>\n",
       "      <td>23.24</td>\n",
       "      <td>1.95</td>\n",
       "      <td>2025-01-27 12:20:24</td>\n",
       "      <td>2025-01-27</td>\n",
       "    </tr>\n",
       "    <tr>\n",
       "      <th>3</th>\n",
       "      <td>1737843625</td>\n",
       "      <td>25200</td>\n",
       "      <td>2025-01-25</td>\n",
       "      <td>Clouds</td>\n",
       "      <td>overcast clouds</td>\n",
       "      <td>25.36</td>\n",
       "      <td>1008</td>\n",
       "      <td>89</td>\n",
       "      <td>23.41</td>\n",
       "      <td>1.03</td>\n",
       "      <td>2025-01-26 12:20:25</td>\n",
       "      <td>2025-01-26</td>\n",
       "    </tr>\n",
       "    <tr>\n",
       "      <th>4</th>\n",
       "      <td>1737757227</td>\n",
       "      <td>25200</td>\n",
       "      <td>2025-01-24</td>\n",
       "      <td>Mist</td>\n",
       "      <td>mist</td>\n",
       "      <td>23.91</td>\n",
       "      <td>1008</td>\n",
       "      <td>95</td>\n",
       "      <td>23.06</td>\n",
       "      <td>0.51</td>\n",
       "      <td>2025-01-25 12:20:27</td>\n",
       "      <td>2025-01-25</td>\n",
       "    </tr>\n",
       "  </tbody>\n",
       "</table>\n",
       "</div>"
      ],
      "text/plain": [
       "   timestamp_utc  timezone_offset   date_utc weather      description  \\\n",
       "0     1738102821            25200 2025-01-28  Clouds  overcast clouds   \n",
       "1     1738016422            25200 2025-01-27    Haze             haze   \n",
       "2     1737930024            25200 2025-01-26    Rain       light rain   \n",
       "3     1737843625            25200 2025-01-25  Clouds  overcast clouds   \n",
       "4     1737757227            25200 2025-01-24    Mist             mist   \n",
       "\n",
       "   temperature  pressure  humidity  dew_point  wind_speed       timestamp_wib  \\\n",
       "0        24.70      1009        90      22.95        2.48 2025-01-29 12:20:21   \n",
       "1        23.90      1007        95      23.05        2.06 2025-01-28 12:20:22   \n",
       "2        24.63      1006        92      23.24        1.95 2025-01-27 12:20:24   \n",
       "3        25.36      1008        89      23.41        1.03 2025-01-26 12:20:25   \n",
       "4        23.91      1008        95      23.06        0.51 2025-01-25 12:20:27   \n",
       "\n",
       "    date_wib  \n",
       "0 2025-01-29  \n",
       "1 2025-01-28  \n",
       "2 2025-01-27  \n",
       "3 2025-01-26  \n",
       "4 2025-01-25  "
      ]
     },
     "execution_count": 45,
     "metadata": {},
     "output_type": "execute_result"
    }
   ],
   "source": [
    "weather_data.head()"
   ]
  },
  {
   "cell_type": "markdown",
   "metadata": {},
   "source": [
    "# Testing Viz"
   ]
  },
  {
   "cell_type": "code",
   "execution_count": 9,
   "metadata": {},
   "outputs": [],
   "source": [
    "import pandas as pd\n",
    "import matplotlib.pyplot as plt\n",
    "import seaborn as sns"
   ]
  },
  {
   "cell_type": "markdown",
   "metadata": {},
   "source": [
    "## Line chart: Temperature"
   ]
  },
  {
   "cell_type": "code",
   "execution_count": 10,
   "metadata": {},
   "outputs": [
    {
     "data": {
      "image/png": "[encoded data removed]",
      "text/plain": [
       "<Figure size 1000x600 with 1 Axes>"
      ]
     },
     "metadata": {},
     "output_type": "display_data"
    }
   ],
   "source": [
    "# Load the CSV data\n",
    "filename = \"surabaya_weather.csv\"  # Replace with your actual CSV file\n",
    "weather_data = pd.read_csv(filename)\n",
    "\n",
    "# Convert date to a datetime object for better handling\n",
    "weather_data['date'] = pd.to_datetime(weather_data['date'])\n",
    "\n",
    "# Plot temperature trends\n",
    "plt.figure(figsize=(10, 6))\n",
    "sns.lineplot(x='date', y='temperature', data=weather_data, marker='o', label='Temperature')\n",
    "plt.title('Daily Temperature in Surabaya')\n",
    "plt.xlabel('Date')\n",
    "plt.ylabel('Temperature (°C)')\n",
    "plt.xticks(rotation=45)\n",
    "plt.legend()\n",
    "plt.tight_layout()\n",
    "plt.show()\n"
   ]
  },
  {
   "cell_type": "code",
   "execution_count": null,
   "metadata": {},
   "outputs": [],
   "source": []
  },
  {
   "cell_type": "markdown",
   "metadata": {},
   "source": [
    "## Interactive Viz"
   ]
  },
  {
   "cell_type": "code",
   "execution_count": 68,
   "metadata": {},
   "outputs": [],
   "source": [
    "import plotly.express as px"
   ]
  },
  {
   "cell_type": "code",
   "execution_count": 69,
   "metadata": {},
   "outputs": [
    {
     "ename": "ValueError",
     "evalue": "Mime type rendering requires nbformat>=4.2.0 but it is not installed",
     "output_type": "error",
     "traceback": [
      "\u001b[0;31m---------------------------------------------------------------------------\u001b[0m",
      "\u001b[0;31mValueError\u001b[0m                                Traceback (most recent call last)",
      "Cell \u001b[0;32mIn[69], line 4\u001b[0m\n\u001b[1;32m      1\u001b[0m \u001b[38;5;66;03m# Interactive temperature plot\u001b[39;00m\n\u001b[1;32m      2\u001b[0m fig \u001b[38;5;241m=\u001b[39m px\u001b[38;5;241m.\u001b[39mline(weather_data, x\u001b[38;5;241m=\u001b[39m\u001b[38;5;124m'\u001b[39m\u001b[38;5;124mdate\u001b[39m\u001b[38;5;124m'\u001b[39m, y\u001b[38;5;241m=\u001b[39m\u001b[38;5;124m'\u001b[39m\u001b[38;5;124mtemperature\u001b[39m\u001b[38;5;124m'\u001b[39m, title\u001b[38;5;241m=\u001b[39m\u001b[38;5;124m'\u001b[39m\u001b[38;5;124mDaily Temperature in Surabaya\u001b[39m\u001b[38;5;124m'\u001b[39m,\n\u001b[1;32m      3\u001b[0m               labels\u001b[38;5;241m=\u001b[39m{\u001b[38;5;124m'\u001b[39m\u001b[38;5;124mtemperature\u001b[39m\u001b[38;5;124m'\u001b[39m: \u001b[38;5;124m'\u001b[39m\u001b[38;5;124mTemperature (°C)\u001b[39m\u001b[38;5;124m'\u001b[39m, \u001b[38;5;124m'\u001b[39m\u001b[38;5;124mdate\u001b[39m\u001b[38;5;124m'\u001b[39m: \u001b[38;5;124m'\u001b[39m\u001b[38;5;124mDate\u001b[39m\u001b[38;5;124m'\u001b[39m})\n\u001b[0;32m----> 4\u001b[0m \u001b[43mfig\u001b[49m\u001b[38;5;241;43m.\u001b[39;49m\u001b[43mshow\u001b[49m\u001b[43m(\u001b[49m\u001b[43m)\u001b[49m\n",
      "File \u001b[0;32m~/project/weather-dashboard/env-wdb/lib/python3.8/site-packages/plotly/basedatatypes.py:3410\u001b[0m, in \u001b[0;36mBaseFigure.show\u001b[0;34m(self, *args, **kwargs)\u001b[0m\n\u001b[1;32m   3377\u001b[0m \u001b[38;5;250m\u001b[39m\u001b[38;5;124;03m\"\"\"\u001b[39;00m\n\u001b[1;32m   3378\u001b[0m \u001b[38;5;124;03mShow a figure using either the default renderer(s) or the renderer(s)\u001b[39;00m\n\u001b[1;32m   3379\u001b[0m \u001b[38;5;124;03mspecified by the renderer argument\u001b[39;00m\n\u001b[0;32m   (...)\u001b[0m\n\u001b[1;32m   3406\u001b[0m \u001b[38;5;124;03mNone\u001b[39;00m\n\u001b[1;32m   3407\u001b[0m \u001b[38;5;124;03m\"\"\"\u001b[39;00m\n\u001b[1;32m   3408\u001b[0m \u001b[38;5;28;01mimport\u001b[39;00m\u001b[38;5;250m \u001b[39m\u001b[38;5;21;01mplotly\u001b[39;00m\u001b[38;5;21;01m.\u001b[39;00m\u001b[38;5;21;01mio\u001b[39;00m\u001b[38;5;250m \u001b[39m\u001b[38;5;28;01mas\u001b[39;00m\u001b[38;5;250m \u001b[39m\u001b[38;5;21;01mpio\u001b[39;00m\n\u001b[0;32m-> 3410\u001b[0m \u001b[38;5;28;01mreturn\u001b[39;00m \u001b[43mpio\u001b[49m\u001b[38;5;241;43m.\u001b[39;49m\u001b[43mshow\u001b[49m\u001b[43m(\u001b[49m\u001b[38;5;28;43mself\u001b[39;49m\u001b[43m,\u001b[49m\u001b[43m \u001b[49m\u001b[38;5;241;43m*\u001b[39;49m\u001b[43margs\u001b[49m\u001b[43m,\u001b[49m\u001b[43m \u001b[49m\u001b[38;5;241;43m*\u001b[39;49m\u001b[38;5;241;43m*\u001b[39;49m\u001b[43mkwargs\u001b[49m\u001b[43m)\u001b[49m\n",
      "File \u001b[0;32m~/project/weather-dashboard/env-wdb/lib/python3.8/site-packages/plotly/io/_renderers.py:394\u001b[0m, in \u001b[0;36mshow\u001b[0;34m(fig, renderer, validate, **kwargs)\u001b[0m\n\u001b[1;32m    389\u001b[0m         \u001b[38;5;28;01mraise\u001b[39;00m \u001b[38;5;167;01mValueError\u001b[39;00m(\n\u001b[1;32m    390\u001b[0m             \u001b[38;5;124m\"\u001b[39m\u001b[38;5;124mMime type rendering requires ipython but it is not installed\u001b[39m\u001b[38;5;124m\"\u001b[39m\n\u001b[1;32m    391\u001b[0m         )\n\u001b[1;32m    393\u001b[0m     \u001b[38;5;28;01mif\u001b[39;00m \u001b[38;5;129;01mnot\u001b[39;00m nbformat \u001b[38;5;129;01mor\u001b[39;00m Version(nbformat\u001b[38;5;241m.\u001b[39m__version__) \u001b[38;5;241m<\u001b[39m Version(\u001b[38;5;124m\"\u001b[39m\u001b[38;5;124m4.2.0\u001b[39m\u001b[38;5;124m\"\u001b[39m):\n\u001b[0;32m--> 394\u001b[0m         \u001b[38;5;28;01mraise\u001b[39;00m \u001b[38;5;167;01mValueError\u001b[39;00m(\n\u001b[1;32m    395\u001b[0m             \u001b[38;5;124m\"\u001b[39m\u001b[38;5;124mMime type rendering requires nbformat>=4.2.0 but it is not installed\u001b[39m\u001b[38;5;124m\"\u001b[39m\n\u001b[1;32m    396\u001b[0m         )\n\u001b[1;32m    398\u001b[0m     ipython_display\u001b[38;5;241m.\u001b[39mdisplay(bundle, raw\u001b[38;5;241m=\u001b[39m\u001b[38;5;28;01mTrue\u001b[39;00m)\n\u001b[1;32m    400\u001b[0m \u001b[38;5;66;03m# external renderers\u001b[39;00m\n",
      "\u001b[0;31mValueError\u001b[0m: Mime type rendering requires nbformat>=4.2.0 but it is not installed"
     ]
    }
   ],
   "source": [
    "# Interactive temperature plot\n",
    "fig = px.line(weather_data, x='date', y='temperature', title='Daily Temperature in Surabaya',\n",
    "              labels={'temperature': 'Temperature (°C)', 'date': 'Date'})\n",
    "fig.show()"
   ]
  },
  {
   "cell_type": "code",
   "execution_count": null,
   "metadata": {},
   "outputs": [],
   "source": []
  }
 ],
 "metadata": {
  "kernelspec": {
   "display_name": "env-wdb",
   "language": "python",
   "name": "python3"
  },
  "language_info": {
   "codemirror_mode": {
    "name": "ipython",
    "version": 3
   },
   "file_extension": ".py",
   "mimetype": "text/x-python",
   "name": "python",
   "nbconvert_exporter": "python",
   "pygments_lexer": "ipython3",
   "version": "3.8.5"
  }
 },
 "nbformat": 4,
 "nbformat_minor": 2
}
