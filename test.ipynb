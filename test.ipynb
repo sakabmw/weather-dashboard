{
 "cells": [
  {
   "cell_type": "code",
   "execution_count": 27,
   "metadata": {},
   "outputs": [],
   "source": [
    "import os\n",
    "from dotenv import load_dotenv\n",
    "\n",
    "# Load environment variables from .env file\n",
    "load_dotenv()\n",
    "\n",
    "# Access the API key\n",
    "api_key = os.getenv(\"API_KEY\")"
   ]
  },
  {
   "cell_type": "code",
   "execution_count": 28,
   "metadata": {},
   "outputs": [],
   "source": [
    "import requests"
   ]
  },
  {
   "cell_type": "code",
   "execution_count": 42,
   "metadata": {},
   "outputs": [],
   "source": [
    "# Function to fetch weather data\n",
    "def get_weather(city, api_key):\n",
    "    # url = f\"http://api.openweathermap.org/data/3.0/weather?q={city}&appid={api_key}&units=metric\"\n",
    "    url = f\"https://api.openweathermap.org/data/3.0/onecall?q={city}&appid={api_key}\"\n",
    "    response = requests.get(url)\n",
    "    if response.status_code == 200:\n",
    "        data = response.json()\n",
    "        return data\n",
    "    else:\n",
    "        print(\"Error:\", response.status_code)\n",
    "        return None\n",
    "\n",
    "# Function to display weather data\n",
    "def display_weather(data):\n",
    "    if data:\n",
    "        city = data[\"name\"]\n",
    "        temp = data[\"main\"][\"temp\"]\n",
    "        weather = data[\"weather\"][0][\"description\"]\n",
    "        humidity = data[\"main\"][\"humidity\"]\n",
    "        wind_speed = data[\"wind\"][\"speed\"]\n",
    "\n",
    "        print(f\"Weather in {city}:\")\n",
    "        print(f\"Temperature: {temp}°C\")\n",
    "        print(f\"Condition: {weather}\")\n",
    "        print(f\"Humidity: {humidity}%\")\n",
    "        print(f\"Wind Speed: {wind_speed} m/s\")\n",
    "    else:\n",
    "        print(\"No data to display.\")\n",
    "\n",
    "# # Main program\n",
    "# if __name__ == \"__main__\":\n",
    "#     city_name = input(\"Enter the city name: \")\n",
    "#     api_key = \"your_api_key_here\"  # Replace with your OpenWeatherMap API key\n",
    "#     weather_data = get_weather(city_name, api_key)\n",
    "#     display_weather(weather_data)\n"
   ]
  },
  {
   "cell_type": "code",
   "execution_count": 43,
   "metadata": {},
   "outputs": [],
   "source": [
    "city_name = 'Surabaya'"
   ]
  },
  {
   "cell_type": "code",
   "execution_count": 44,
   "metadata": {},
   "outputs": [
    {
     "name": "stdout",
     "output_type": "stream",
     "text": [
      "Error: 401\n",
      "No data to display.\n"
     ]
    }
   ],
   "source": [
    "weather_data = get_weather(city_name, api_key)\n",
    "display_weather(weather_data)"
   ]
  },
  {
   "cell_type": "code",
   "execution_count": 32,
   "metadata": {},
   "outputs": [],
   "source": [
    "from datetime import date, datetime, timedelta"
   ]
  },
  {
   "cell_type": "code",
   "execution_count": 33,
   "metadata": {},
   "outputs": [
    {
     "name": "stdout",
     "output_type": "stream",
     "text": [
      "2025-01-18 09:00:00\n",
      "1737165600.0\n",
      "1737165600\n"
     ]
    }
   ],
   "source": [
    "today = datetime(2025, 1, 19, 9, 00, 00)\n",
    "print(today - timedelta(days=1))\n",
    "print((today - timedelta(days=1)).timestamp())\n",
    "print(int((today - timedelta(days=1)).timestamp()))\n"
   ]
  },
  {
   "cell_type": "code",
   "execution_count": 84,
   "metadata": {},
   "outputs": [
    {
     "name": "stdout",
     "output_type": "stream",
     "text": [
      "-7.2459717\n",
      "112.7378266\n"
     ]
    }
   ],
   "source": [
    "# Testing geocoding to get the latlong data of a city\n",
    "def get_city_coordinates(city, api_key):\n",
    "    url = f\"http://api.openweathermap.org/geo/1.0/direct?q={city}&limit=1&appid={api_key}\"\n",
    "    response = requests.get(url)\n",
    "    if response.status_code == 200:\n",
    "        data = response.json()\n",
    "        if data:\n",
    "            lat = data[0]['lat']\n",
    "            lon = data[0]['lon']\n",
    "            return lat, lon\n",
    "        else:\n",
    "            print(f\"City '{city}' not found.\")\n",
    "            return None, None\n",
    "    else:\n",
    "        print(\"Error fetching coordinates:\", response.status_code)\n",
    "        return None, None\n",
    "\n",
    "city = \"Surabaya\"\n",
    "# city = \"Jakarta\"\n",
    "lat, lon = get_city_coordinates(city, api_key)\n",
    "print(lat)\n",
    "print(lon)"
   ]
  },
  {
   "cell_type": "code",
   "execution_count": 85,
   "metadata": {},
   "outputs": [],
   "source": [
    "import time"
   ]
  },
  {
   "cell_type": "code",
   "execution_count": 92,
   "metadata": {},
   "outputs": [
    {
     "data": {
      "text/plain": [
       "'https://api.openweathermap.org/data/2.5/onecall/timemachine'"
      ]
     },
     "execution_count": 92,
     "metadata": {},
     "output_type": "execute_result"
    }
   ],
   "source": [
    "tz = \"+07:00\"\n",
    "date = \"2025-01-18\"\n",
    "base_url = \"https://api.openweathermap.org/data/2.5/onecall/timemachine\"\n",
    "# base_url = f\"https://api.openweathermap.org/data/3.0/onecall/day_summary?lat={lat}&lon={lon}&date={date}&tz={tz}&appid={api_key}\"\n",
    "# base_url = f\"https://api.openweathermap.org/data/3.0/onecall/day_summary?lat={lat}&lon={lon}&date={date}&tz={tz}&appid={api_key}\"\n",
    "# base_url = f\"https://api.openweathermap.org/data/3.0/onecall/day_summary?lat=60.45&lon=-38.67&date=2023-03-30&tz=+03:00&appid={api_key}\"\n",
    "base_url\n",
    "# response = requests.get(base_url, params=params)\n",
    "# response = requests.get(base_url)\n",
    "# response"
   ]
  },
  {
   "cell_type": "code",
   "execution_count": 87,
   "metadata": {},
   "outputs": [],
   "source": [
    "def get_historical_weather(lat, lon, api_key, days=30):\n",
    "    \"\"\"Fetch historical weather data for the last 'days' days.\"\"\"\n",
    "    base_url = \"https://api.openweathermap.org/data/2.5/onecall/timemachine\"\n",
    "    weather_data = []\n",
    "\n",
    "    for i in range(days):\n",
    "        # Calculate the timestamp for each day\n",
    "        timestamp = int((datetime.utcnow() - timedelta(days=i+1)).timestamp())\n",
    "        params = {\n",
    "            \"lat\": lat,\n",
    "            \"lon\": lon,\n",
    "            \"dt\": timestamp,\n",
    "            \"appid\": api_key,\n",
    "            \"units\": \"metric\"  # Optional: Metric units for temperature\n",
    "        }\n",
    "        response = requests.get(base_url, params=params)\n",
    "        if response.status_code == 200:\n",
    "            weather_data.append(response.json())\n",
    "        else:\n",
    "            print(f\"Error fetching weather data for day {i+1}: {response.status_code}\")\n",
    "            break\n",
    "\n",
    "        # Avoid hitting rate limits\n",
    "        time.sleep(1)\n",
    "\n",
    "    return weather_data"
   ]
  },
  {
   "cell_type": "code",
   "execution_count": 88,
   "metadata": {},
   "outputs": [
    {
     "name": "stdout",
     "output_type": "stream",
     "text": [
      "Error fetching weather data for day 1: 401\n"
     ]
    }
   ],
   "source": [
    "def main():\n",
    "    # api_key = \"YOUR_API_KEY\"  # Replace with your API key\n",
    "    city_name = \"Surabaya\"  # Change to your desired city\n",
    "    days = 30  # Number of past days to retrieve\n",
    "\n",
    "    # Step 1: Get city coordinates\n",
    "    lat, lon = get_city_coordinates(city_name, api_key)\n",
    "    if lat is None or lon is None:\n",
    "        return\n",
    "\n",
    "    # Step 2: Fetch historical weather data\n",
    "    weather_data = get_historical_weather(lat, lon, api_key, days)\n",
    "\n",
    "    # Step 3: Display or process the data\n",
    "    for day in weather_data:\n",
    "        date = datetime.fromtimestamp(day[\"current\"][\"dt\"]).strftime('%Y-%m-%d')\n",
    "        temp = day[\"current\"][\"temp\"]\n",
    "        weather = day[\"current\"][\"weather\"][0][\"description\"]\n",
    "        print(f\"Date: {date}, Temp: {temp}°C, Weather: {weather}\")\n",
    "\n",
    "if __name__ == \"__main__\":\n",
    "    main()"
   ]
  },
  {
   "cell_type": "code",
   "execution_count": 89,
   "metadata": {},
   "outputs": [
    {
     "name": "stdout",
     "output_type": "stream",
     "text": [
      "Error fetching data for 2025-01-18: 401\n",
      "Error fetching data for 2025-01-17: 401\n",
      "Error fetching data for 2025-01-16: 401\n",
      "Error fetching data for 2025-01-15: 401\n"
     ]
    },
    {
     "ename": "KeyboardInterrupt",
     "evalue": "",
     "output_type": "error",
     "traceback": [
      "\u001b[0;31m---------------------------------------------------------------------------\u001b[0m",
      "\u001b[0;31mKeyboardInterrupt\u001b[0m                         Traceback (most recent call last)",
      "Cell \u001b[0;32mIn[89], line 44\u001b[0m\n\u001b[1;32m     41\u001b[0m         \u001b[38;5;28mprint\u001b[39m(\u001b[38;5;124mf\u001b[39m\u001b[38;5;124m\"\u001b[39m\u001b[38;5;124mDate: \u001b[39m\u001b[38;5;132;01m{\u001b[39;00mday[\u001b[38;5;124m'\u001b[39m\u001b[38;5;124mdate\u001b[39m\u001b[38;5;124m'\u001b[39m]\u001b[38;5;132;01m}\u001b[39;00m\u001b[38;5;124m, Temp: \u001b[39m\u001b[38;5;132;01m{\u001b[39;00mday[\u001b[38;5;124m'\u001b[39m\u001b[38;5;124mtemperature\u001b[39m\u001b[38;5;124m'\u001b[39m]\u001b[38;5;132;01m}\u001b[39;00m\u001b[38;5;124m°C, Weather: \u001b[39m\u001b[38;5;132;01m{\u001b[39;00mday[\u001b[38;5;124m'\u001b[39m\u001b[38;5;124mdescription\u001b[39m\u001b[38;5;124m'\u001b[39m]\u001b[38;5;132;01m}\u001b[39;00m\u001b[38;5;124m\"\u001b[39m)\n\u001b[1;32m     43\u001b[0m \u001b[38;5;28;01mif\u001b[39;00m \u001b[38;5;18m__name__\u001b[39m \u001b[38;5;241m==\u001b[39m \u001b[38;5;124m\"\u001b[39m\u001b[38;5;124m__main__\u001b[39m\u001b[38;5;124m\"\u001b[39m:\n\u001b[0;32m---> 44\u001b[0m     \u001b[43mmain\u001b[49m\u001b[43m(\u001b[49m\u001b[43m)\u001b[49m\n",
      "Cell \u001b[0;32mIn[89], line 37\u001b[0m, in \u001b[0;36mmain\u001b[0;34m()\u001b[0m\n\u001b[1;32m     35\u001b[0m \u001b[38;5;28;01mdef\u001b[39;00m\u001b[38;5;250m \u001b[39m\u001b[38;5;21mmain\u001b[39m():\n\u001b[1;32m     36\u001b[0m     \u001b[38;5;66;03m# Fetch weather data for the last 30 days\u001b[39;00m\n\u001b[0;32m---> 37\u001b[0m     weather_data \u001b[38;5;241m=\u001b[39m \u001b[43mfetch_weather_data\u001b[49m\u001b[43m(\u001b[49m\u001b[43mcity\u001b[49m\u001b[43m,\u001b[49m\u001b[43m \u001b[49m\u001b[43mlat\u001b[49m\u001b[43m,\u001b[49m\u001b[43m \u001b[49m\u001b[43mlon\u001b[49m\u001b[43m,\u001b[49m\u001b[43m \u001b[49m\u001b[43mapi_key\u001b[49m\u001b[43m,\u001b[49m\u001b[43m \u001b[49m\u001b[43mdays\u001b[49m\u001b[38;5;241;43m=\u001b[39;49m\u001b[38;5;241;43m30\u001b[39;49m\u001b[43m)\u001b[49m\n\u001b[1;32m     39\u001b[0m     \u001b[38;5;66;03m# Display the results\u001b[39;00m\n\u001b[1;32m     40\u001b[0m     \u001b[38;5;28;01mfor\u001b[39;00m day \u001b[38;5;129;01min\u001b[39;00m weather_data:\n",
      "Cell \u001b[0;32mIn[89], line 31\u001b[0m, in \u001b[0;36mfetch_weather_data\u001b[0;34m(city_name, lat, lon, api_key, days)\u001b[0m\n\u001b[1;32m     28\u001b[0m         \u001b[38;5;28mprint\u001b[39m(\u001b[38;5;124mf\u001b[39m\u001b[38;5;124m\"\u001b[39m\u001b[38;5;124mError fetching data for \u001b[39m\u001b[38;5;132;01m{\u001b[39;00mdatetime\u001b[38;5;241m.\u001b[39mutcfromtimestamp(timestamp)\u001b[38;5;241m.\u001b[39mstrftime(\u001b[38;5;124m'\u001b[39m\u001b[38;5;124m%\u001b[39m\u001b[38;5;124mY-\u001b[39m\u001b[38;5;124m%\u001b[39m\u001b[38;5;124mm-\u001b[39m\u001b[38;5;132;01m%d\u001b[39;00m\u001b[38;5;124m'\u001b[39m)\u001b[38;5;132;01m}\u001b[39;00m\u001b[38;5;124m: \u001b[39m\u001b[38;5;132;01m{\u001b[39;00mresponse\u001b[38;5;241m.\u001b[39mstatus_code\u001b[38;5;132;01m}\u001b[39;00m\u001b[38;5;124m\"\u001b[39m)\n\u001b[1;32m     30\u001b[0m     \u001b[38;5;66;03m# Avoid hitting rate limits\u001b[39;00m\n\u001b[0;32m---> 31\u001b[0m     \u001b[43mtime\u001b[49m\u001b[38;5;241;43m.\u001b[39;49m\u001b[43msleep\u001b[49m\u001b[43m(\u001b[49m\u001b[38;5;241;43m1\u001b[39;49m\u001b[43m)\u001b[49m\n\u001b[1;32m     33\u001b[0m \u001b[38;5;28;01mreturn\u001b[39;00m weather_data\n",
      "\u001b[0;31mKeyboardInterrupt\u001b[0m: "
     ]
    }
   ],
   "source": [
    "def fetch_weather_data(city_name, lat, lon, api_key, days=30):\n",
    "    \"\"\"Fetch weather data for the last 'days' days.\"\"\"\n",
    "    base_url = \"https://api.openweathermap.org/data/2.5/onecall/timemachine\"\n",
    "    weather_data = []\n",
    "\n",
    "    for i in range(days):\n",
    "        # Calculate the timestamp for each day\n",
    "        timestamp = int((datetime.utcnow() - timedelta(days=i+1)).timestamp())\n",
    "        params = {\n",
    "            \"lat\": lat,\n",
    "            \"lon\": lon,\n",
    "            \"dt\": timestamp,\n",
    "            \"appid\": api_key,\n",
    "            \"units\": \"metric\"  # Use metric units for temperature\n",
    "        }\n",
    "\n",
    "        # Make the API call\n",
    "        response = requests.get(base_url, params=params)\n",
    "        if response.status_code == 200:\n",
    "            day_data = response.json()\n",
    "            weather_data.append({\n",
    "                \"timestamp\": timestamp,\n",
    "                \"date\": datetime.utcfromtimestamp(timestamp).strftime('%Y-%m-%d'),\n",
    "                \"temperature\": day_data[\"current\"][\"temp\"],\n",
    "                \"description\": day_data[\"current\"][\"weather\"][0][\"description\"]\n",
    "            })\n",
    "        else:\n",
    "            print(f\"Error fetching data for {datetime.utcfromtimestamp(timestamp).strftime('%Y-%m-%d')}: {response.status_code}\")\n",
    "        \n",
    "        # Avoid hitting rate limits\n",
    "        time.sleep(1)\n",
    "\n",
    "    return weather_data\n",
    "\n",
    "def main():\n",
    "    # Fetch weather data for the last 30 days\n",
    "    weather_data = fetch_weather_data(city, lat, lon, api_key, days=30)\n",
    "\n",
    "    # Display the results\n",
    "    for day in weather_data:\n",
    "        print(f\"Date: {day['date']}, Temp: {day['temperature']}°C, Weather: {day['description']}\")\n",
    "\n",
    "if __name__ == \"__main__\":\n",
    "    main()"
   ]
  },
  {
   "cell_type": "code",
   "execution_count": null,
   "metadata": {},
   "outputs": [],
   "source": []
  }
 ],
 "metadata": {
  "kernelspec": {
   "display_name": "env-wdb",
   "language": "python",
   "name": "python3"
  },
  "language_info": {
   "codemirror_mode": {
    "name": "ipython",
    "version": 3
   },
   "file_extension": ".py",
   "mimetype": "text/x-python",
   "name": "python",
   "nbconvert_exporter": "python",
   "pygments_lexer": "ipython3",
   "version": "3.8.5"
  }
 },
 "nbformat": 4,
 "nbformat_minor": 2
}
