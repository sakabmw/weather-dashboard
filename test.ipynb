{
 "cells": [
  {
   "cell_type": "code",
   "execution_count": 1,
   "metadata": {},
   "outputs": [],
   "source": [
    "import os\n",
    "from dotenv import load_dotenv\n",
    "\n",
    "# Load environment variables from .env file\n",
    "load_dotenv()\n",
    "\n",
    "# Access the API key\n",
    "api_key = os.getenv(\"API_KEY\")"
   ]
  },
  {
   "cell_type": "code",
   "execution_count": 2,
   "metadata": {},
   "outputs": [],
   "source": [
    "import requests\n",
    "from datetime import date, datetime, timedelta\n",
    "import time"
   ]
  },
  {
   "cell_type": "code",
   "execution_count": 3,
   "metadata": {},
   "outputs": [
    {
     "name": "stdout",
     "output_type": "stream",
     "text": [
      "-7.2459717\n",
      "112.7378266\n"
     ]
    }
   ],
   "source": [
    "# Testing geocoding to get the latlong data of a city\n",
    "def get_city_coordinates(city, api_key):\n",
    "    url = f\"http://api.openweathermap.org/geo/1.0/direct?q={city}&limit=1&appid={api_key}\"\n",
    "    response = requests.get(url)\n",
    "    if response.status_code == 200:\n",
    "        data = response.json()\n",
    "        if data:\n",
    "            lat = data[0]['lat']\n",
    "            lon = data[0]['lon']\n",
    "            return lat, lon\n",
    "        else:\n",
    "            print(f\"City '{city}' not found.\")\n",
    "            return None, None\n",
    "    else:\n",
    "        print(\"Error fetching coordinates:\", response.status_code)\n",
    "        return None, None\n",
    "\n",
    "city = \"Surabaya\"\n",
    "# city = \"Jakarta\"\n",
    "lat, lon = get_city_coordinates(city, api_key)\n",
    "print(lat)\n",
    "print(lon)"
   ]
  },
  {
   "cell_type": "code",
   "execution_count": 4,
   "metadata": {},
   "outputs": [
    {
     "name": "stdout",
     "output_type": "stream",
     "text": [
      "Temperature: 29.25°C\n",
      "Condition: overcast clouds\n",
      "Humidity: 70%\n",
      "Wind Speed: 5.41 m/s\n"
     ]
    }
   ],
   "source": [
    "# Function to fetch weather data\n",
    "def get_weather(lat, lon, part, api_key):\n",
    "    url = f\"https://api.openweathermap.org/data/3.0/onecall?lat={lat}&lon={lon}&exclude={part}&appid={api_key}&units=metric\"\n",
    "    response = requests.get(url)\n",
    "    if response.status_code == 200:\n",
    "        data = response.json()\n",
    "        return data\n",
    "    else:\n",
    "        print(\"Error:\", response.status_code)\n",
    "        return None\n",
    "\n",
    "# Function to display weather data\n",
    "def display_weather(data):\n",
    "    if data:\n",
    "        temp = data[\"current\"][\"temp\"]\n",
    "        weather = data[\"current\"][\"weather\"][0][\"description\"]\n",
    "        humidity = data[\"current\"][\"humidity\"]\n",
    "        wind_speed = data[\"current\"][\"wind_speed\"]\n",
    "\n",
    "        # print(f\"Weather in {city}:\")\n",
    "        print(f\"Temperature: {temp}°C\")\n",
    "        print(f\"Condition: {weather}\")\n",
    "        print(f\"Humidity: {humidity}%\")\n",
    "        print(f\"Wind Speed: {wind_speed} m/s\")\n",
    "    else:\n",
    "        print(\"No data to display.\")\n",
    "\n",
    "# Main program\n",
    "if __name__ == \"__main__\":\n",
    "    city_name = input(\"Enter the city name: \")\n",
    "    part = 'minutely,hourly'\n",
    "    weather_data = get_weather(lat, lon, part, api_key)\n",
    "    display_weather(weather_data)"
   ]
  },
  {
   "cell_type": "code",
   "execution_count": 30,
   "metadata": {},
   "outputs": [],
   "source": [
    "def get_historical_weather(lat, lon, api_key, days=30):\n",
    "    \"\"\"Fetch historical weather data for the last 'days' days.\"\"\"\n",
    "    base_url = base_url = f\"https://api.openweathermap.org/data/3.0/onecall/timemachine\"\n",
    "    weather_data = []\n",
    "\n",
    "    for i in range(days):\n",
    "        # Calculate the timestamp for each day\n",
    "        ts_d_min_i = datetime.utcnow() - timedelta(days=i+1) # Timestamp of day minus (i+1)\n",
    "        timestamp = int(ts_d_min_i.timestamp())\n",
    "        params = {\n",
    "            \"lat\": lat,\n",
    "            \"lon\": lon,\n",
    "            \"dt\": timestamp,\n",
    "            \"appid\": api_key,\n",
    "            \"units\": \"metric\" # Optional: Metric units for temperature\n",
    "        }\n",
    "\n",
    "        # Make the API call\n",
    "        response = requests.get(base_url, params=params)\n",
    "        if response.status_code == 200:\n",
    "            day_data = response.json()\n",
    "            weather_data.append({\n",
    "                \"timestamp\": timestamp,\n",
    "                \"date\": datetime.utcfromtimestamp(timestamp).strftime('%Y-%m-%d'),\n",
    "                \"temperature\": day_data[\"data\"][0][\"temp\"],\n",
    "                \"description\": day_data[\"data\"][0][\"weather\"][0][\"description\"]\n",
    "            })\n",
    "        else:\n",
    "            print(f\"Error fetching weather data for day {i+1}: {response.status_code}\")\n",
    "            break\n",
    "\n",
    "        # Avoid hitting rate limits\n",
    "        time.sleep(1)\n",
    "\n",
    "    return weather_data"
   ]
  },
  {
   "cell_type": "code",
   "execution_count": 55,
   "metadata": {},
   "outputs": [],
   "source": [
    "import csv\n",
    "\n",
    "# Save the weather data to a CSV file\n",
    "def save_to_csv(data, city_name):\n",
    "    filename = \"{}_weather.csv\".format(city_name.lower())\n",
    "    with open(filename, mode=\"w\", newline=\"\") as file:\n",
    "        writer = csv.DictWriter(\n",
    "            file,\n",
    "            fieldnames=[\"timestamp\", \"date\", \"temperature\", \"description\"])\n",
    "        writer.writeheader()\n",
    "        writer.writerows(data)\n",
    "    print(f\"Weather data saved to {filename}\")\n"
   ]
  },
  {
   "cell_type": "code",
   "execution_count": 57,
   "metadata": {},
   "outputs": [
    {
     "name": "stdout",
     "output_type": "stream",
     "text": [
      "Date: 2025-01-19, Time: 2025-01-20 06:25:45.740539, Temp: 27.79°C, Weather: haze\n",
      "Date: 2025-01-18, Time: 2025-01-20 06:25:45.740539, Temp: 25.31°C, Weather: overcast clouds\n",
      "Date: 2025-01-17, Time: 2025-01-20 06:25:45.740539, Temp: 26.2°C, Weather: overcast clouds\n",
      "Date: 2025-01-16, Time: 2025-01-20 06:25:45.740539, Temp: 26.12°C, Weather: moderate rain\n",
      "Date: 2025-01-15, Time: 2025-01-20 06:25:45.740539, Temp: 25.85°C, Weather: overcast clouds\n",
      "Date: 2025-01-14, Time: 2025-01-20 06:25:45.740539, Temp: 26.24°C, Weather: overcast clouds\n",
      "Date: 2025-01-13, Time: 2025-01-20 06:25:45.740539, Temp: 26.56°C, Weather: few clouds\n",
      "Date: 2025-01-12, Time: 2025-01-20 06:25:45.740539, Temp: 26.47°C, Weather: few clouds\n",
      "Date: 2025-01-11, Time: 2025-01-20 06:25:45.740539, Temp: 26.81°C, Weather: few clouds\n",
      "Date: 2025-01-10, Time: 2025-01-20 06:25:45.740539, Temp: 26.14°C, Weather: few clouds\n",
      "Date: 2025-01-09, Time: 2025-01-20 06:25:45.740539, Temp: 26.84°C, Weather: haze\n",
      "Date: 2025-01-08, Time: 2025-01-20 06:25:45.740539, Temp: 26.45°C, Weather: few clouds\n",
      "Date: 2025-01-07, Time: 2025-01-20 06:25:45.740539, Temp: 26.17°C, Weather: haze\n",
      "Date: 2025-01-06, Time: 2025-01-20 06:25:45.740539, Temp: 26.3°C, Weather: haze\n",
      "Date: 2025-01-05, Time: 2025-01-20 06:25:45.740539, Temp: 25.98°C, Weather: haze\n",
      "Date: 2025-01-04, Time: 2025-01-20 06:25:45.740539, Temp: 26.86°C, Weather: few clouds\n",
      "Date: 2025-01-03, Time: 2025-01-20 06:25:45.740539, Temp: 26.04°C, Weather: mist\n",
      "Date: 2025-01-02, Time: 2025-01-20 06:25:45.740539, Temp: 26.51°C, Weather: light rain\n",
      "Date: 2025-01-01, Time: 2025-01-20 06:25:45.740539, Temp: 26.89°C, Weather: few clouds\n",
      "Date: 2024-12-31, Time: 2025-01-20 06:25:45.740539, Temp: 26.67°C, Weather: few clouds\n",
      "Date: 2024-12-30, Time: 2025-01-20 06:25:45.740539, Temp: 27.74°C, Weather: few clouds\n",
      "Date: 2024-12-29, Time: 2025-01-20 06:25:45.740539, Temp: 26.21°C, Weather: light rain\n",
      "Date: 2024-12-28, Time: 2025-01-20 06:25:45.740539, Temp: 28.13°C, Weather: few clouds\n",
      "Date: 2024-12-27, Time: 2025-01-20 06:25:45.740539, Temp: 27.33°C, Weather: few clouds\n",
      "Date: 2024-12-26, Time: 2025-01-20 06:25:45.740539, Temp: 26.44°C, Weather: few clouds\n",
      "Date: 2024-12-25, Time: 2025-01-20 06:25:45.740539, Temp: 26.94°C, Weather: few clouds\n",
      "Date: 2024-12-24, Time: 2025-01-20 06:25:45.740539, Temp: 27.46°C, Weather: few clouds\n",
      "Date: 2024-12-23, Time: 2025-01-20 06:25:45.740539, Temp: 27.4°C, Weather: haze\n",
      "Date: 2024-12-22, Time: 2025-01-20 06:25:45.740539, Temp: 27.74°C, Weather: haze\n",
      "Date: 2024-12-21, Time: 2025-01-20 06:25:45.740539, Temp: 28.45°C, Weather: few clouds\n",
      "Weather data saved to surabaya_weather.csv\n"
     ]
    }
   ],
   "source": [
    "def main():\n",
    "    # Change to your desired city\n",
    "    city_name = \"Surabaya\"\n",
    "    # city_name = input(\"Enter the city name: \")\n",
    "    \n",
    "    # Number of past days to retrieve\n",
    "    days = 30\n",
    "\n",
    "    # Step 1: Get city coordinates\n",
    "    lat, lon = get_city_coordinates(city_name, api_key)\n",
    "    if lat is None or lon is None:\n",
    "        return\n",
    "\n",
    "    # Step 2: Fetch historical weather data\n",
    "    weather_data = get_historical_weather(lat, lon, api_key, days)\n",
    "\n",
    "    # Step 3: Display or process the data\n",
    "    for day in weather_data:\n",
    "        timestamp = day[\"timestamp\"]\n",
    "        date = day[\"date\"]\n",
    "        temp = day[\"temperature\"]\n",
    "        weather = day[\"description\"]\n",
    "        print(f\"Date: {date}, Time: {ts}, Temp: {temp}°C, Weather: {weather}\")\n",
    "\n",
    "    # Step 4: Store the weather data to a CSV file\n",
    "    save_to_csv(weather_data, city_name)\n",
    "\n",
    "if __name__ == \"__main__\":\n",
    "    main()"
   ]
  }
 ],
 "metadata": {
  "kernelspec": {
   "display_name": "env-wdb",
   "language": "python",
   "name": "python3"
  },
  "language_info": {
   "codemirror_mode": {
    "name": "ipython",
    "version": 3
   },
   "file_extension": ".py",
   "mimetype": "text/x-python",
   "name": "python",
   "nbconvert_exporter": "python",
   "pygments_lexer": "ipython3",
   "version": "3.8.5"
  }
 },
 "nbformat": 4,
 "nbformat_minor": 2
}
