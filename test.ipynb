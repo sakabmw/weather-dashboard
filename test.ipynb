{
 "cells": [
  {
   "cell_type": "code",
   "execution_count": 3,
   "metadata": {},
   "outputs": [],
   "source": [
    "import os\n",
    "from dotenv import load_dotenv\n",
    "\n",
    "# Load environment variables from .env file\n",
    "load_dotenv()\n",
    "\n",
    "# Access the API key\n",
    "api_key = os.getenv(\"API_KEY\")"
   ]
  },
  {
   "cell_type": "code",
   "execution_count": 2,
   "metadata": {},
   "outputs": [],
   "source": [
    "import requests\n",
    "\n",
    "# Function to fetch weather data\n",
    "def get_weather(city, api_key):\n",
    "    url = f\"http://api.openweathermap.org/data/2.5/weather?q={city}&appid={api_key}&units=metric\"\n",
    "    response = requests.get(url)\n",
    "    if response.status_code == 200:\n",
    "        data = response.json()\n",
    "        return data\n",
    "    else:\n",
    "        print(\"Error:\", response.status_code)\n",
    "        return None\n",
    "\n",
    "# Function to display weather data\n",
    "def display_weather(data):\n",
    "    if data:\n",
    "        city = data[\"name\"]\n",
    "        temp = data[\"main\"][\"temp\"]\n",
    "        weather = data[\"weather\"][0][\"description\"]\n",
    "        humidity = data[\"main\"][\"humidity\"]\n",
    "        wind_speed = data[\"wind\"][\"speed\"]\n",
    "\n",
    "        print(f\"Weather in {city}:\")\n",
    "        print(f\"Temperature: {temp}°C\")\n",
    "        print(f\"Condition: {weather}\")\n",
    "        print(f\"Humidity: {humidity}%\")\n",
    "        print(f\"Wind Speed: {wind_speed} m/s\")\n",
    "    else:\n",
    "        print(\"No data to display.\")\n",
    "\n",
    "# # Main program\n",
    "# if __name__ == \"__main__\":\n",
    "#     city_name = input(\"Enter the city name: \")\n",
    "#     api_key = \"your_api_key_here\"  # Replace with your OpenWeatherMap API key\n",
    "#     weather_data = get_weather(city_name, api_key)\n",
    "#     display_weather(weather_data)\n"
   ]
  },
  {
   "cell_type": "code",
   "execution_count": 4,
   "metadata": {},
   "outputs": [],
   "source": [
    "city_name = 'Surabaya'"
   ]
  },
  {
   "cell_type": "code",
   "execution_count": 5,
   "metadata": {},
   "outputs": [
    {
     "name": "stdout",
     "output_type": "stream",
     "text": [
      "Weather in Surabaya:\n",
      "Temperature: 26.33°C\n",
      "Condition: moderate rain\n",
      "Humidity: 88%\n",
      "Wind Speed: 1.59 m/s\n"
     ]
    }
   ],
   "source": [
    "weather_data = get_weather(city_name, api_key)\n",
    "display_weather(weather_data)"
   ]
  },
  {
   "cell_type": "code",
   "execution_count": null,
   "metadata": {},
   "outputs": [],
   "source": []
  }
 ],
 "metadata": {
  "kernelspec": {
   "display_name": "env-wdb",
   "language": "python",
   "name": "python3"
  },
  "language_info": {
   "codemirror_mode": {
    "name": "ipython",
    "version": 3
   },
   "file_extension": ".py",
   "mimetype": "text/x-python",
   "name": "python",
   "nbconvert_exporter": "python",
   "pygments_lexer": "ipython3",
   "version": "3.8.5"
  }
 },
 "nbformat": 4,
 "nbformat_minor": 2
}
